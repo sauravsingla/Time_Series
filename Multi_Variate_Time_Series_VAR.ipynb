{
  "nbformat": 4,
  "nbformat_minor": 0,
  "metadata": {
    "colab": {
      "name": "Multi_Variate_Time_Series_VAR.ipynb",
      "provenance": [],
      "collapsed_sections": [],
      "include_colab_link": true
    },
    "kernelspec": {
      "name": "python2",
      "display_name": "Python 2"
    },
    "accelerator": "GPU"
  },
  "cells": [
    {
      "cell_type": "markdown",
      "metadata": {
        "id": "view-in-github",
        "colab_type": "text"
      },
      "source": [
        "<a href=\"https://colab.research.google.com/github/sauravsingla/Time_Series/blob/master/Multi_Variate_Time_Series_VAR.ipynb\" target=\"_parent\"><img src=\"https://colab.research.google.com/assets/colab-badge.svg\" alt=\"Open In Colab\"/></a>"
      ]
    },
    {
      "cell_type": "code",
      "metadata": {
        "id": "gXSs_eBSQwrG"
      },
      "source": [
        "#import required packages\n",
        "import pandas as pd\n",
        "import matplotlib.pyplot as plt\n",
        "%matplotlib inline"
      ],
      "execution_count": null,
      "outputs": []
    },
    {
      "cell_type": "code",
      "metadata": {
        "id": "PbS1Yfj3SEUH"
      },
      "source": [
        "#read the data\n",
        "df = pd.read_csv(\"AirQualityUCI.csv\", parse_dates=[['Date', 'Time']])\n",
        "#check the dtypes\n",
        "df.dtypes"
      ],
      "execution_count": null,
      "outputs": []
    },
    {
      "cell_type": "code",
      "metadata": {
        "id": "B9gkyBrzSNq3"
      },
      "source": [
        "df['Date_Time'] = pd.to_datetime(df.Date_Time , format = '%d/%m/%Y %H.%M.%S')\n",
        "data = df.drop(['Date_Time'], axis=1)\n",
        "data.index = df.Date_Time"
      ],
      "execution_count": null,
      "outputs": []
    },
    {
      "cell_type": "code",
      "metadata": {
        "id": "POgCymphSONX"
      },
      "source": [
        "missing value treatment\n",
        "cols = data.columns\n",
        "for j in cols:\n",
        "    for i in range(0,len(data)):\n",
        "       if data[j][i] == -200:\n",
        "           data[j][i] = data[j][i-1]\n",
        "\n",
        "#checking stationarity\n",
        "from statsmodels.tsa.vector_ar.vecm import coint_johansen\n",
        "#since the test works for only 12 variables, I have randomly dropped\n",
        "#in the next iteration, I would drop another and check the eigenvalues\n",
        "johan_test_temp = data.drop([ 'CO(GT)'], axis=1)\n",
        "coint_johansen(johan_test_temp,-1,1).eig"
      ],
      "execution_count": null,
      "outputs": []
    },
    {
      "cell_type": "code",
      "metadata": {
        "id": "ksfC1PNZSUNf"
      },
      "source": [
        "#creating the train and validation set\n",
        "train = data[:int(0.8*(len(data)))]\n",
        "valid = data[int(0.8*(len(data))):]\n",
        "\n",
        "#fit the model\n",
        "from statsmodels.tsa.vector_ar.var_model import VAR\n",
        "\n",
        "model = VAR(endog=train)\n",
        "model_fit = model.fit()\n",
        "\n",
        "# make prediction on validation\n",
        "prediction = model_fit.forecast(model_fit.y, steps=len(valid))"
      ],
      "execution_count": null,
      "outputs": []
    },
    {
      "cell_type": "code",
      "metadata": {
        "id": "BPn56sp9SYQX"
      },
      "source": [
        "#converting predictions to dataframe\n",
        "pred = pd.DataFrame(index=range(0,len(prediction)),columns=[cols])\n",
        "for j in range(0,13):\n",
        "    for i in range(0, len(prediction)):\n",
        "       pred.iloc[i][j] = prediction[i][j]\n",
        "\n",
        "#check rmse\n",
        "for i in cols:\n",
        "    print('rmse value for', i, 'is : ', sqrt(mean_squared_error(pred[i], valid[i])))"
      ],
      "execution_count": null,
      "outputs": []
    },
    {
      "cell_type": "code",
      "metadata": {
        "id": "x-Q0_7GBSauX"
      },
      "source": [
        "#make final predictions\n",
        "model = VAR(endog=data)\n",
        "model_fit = model.fit()\n",
        "yhat = model_fit.forecast(model_fit.y, steps=1)\n",
        "print(yhat)"
      ],
      "execution_count": null,
      "outputs": []
    },
    {
      "cell_type": "code",
      "metadata": {
        "id": "YZgk1wciTDVo",
        "outputId": "fea1e2cb-2111-4e4f-c3f4-65dab671b2c0",
        "colab": {
          "base_uri": "https://localhost:8080/",
          "height": 141
        }
      },
      "source": [
        "from pandas import read_csv\n",
        "from datetime import datetime\n",
        "# load data\n",
        "def parse(x):\n",
        "\treturn datetime.strptime(x, '%Y %m %d %H')\n",
        "dataset = read_csv('pollution.csv',  parse_dates = [['year', 'month', 'day', 'hour']], index_col=0, date_parser=parse)\n",
        "dataset.drop('No', axis=1, inplace=True)\n",
        "\n",
        "# manually specify column names\n",
        "dataset.columns = ['pollution', 'dew', 'temp', 'press', 'wnd_dir', 'wnd_spd', 'snow', 'rain']\n",
        "dataset.index.name = 'date'\n",
        "# mark all NA values with 0\n",
        "dataset['pollution'].fillna(0, inplace=True)\n",
        "# drop the first 24 hours\n",
        "dataset = dataset[24:]\n",
        "# summarize first 5 rows\n",
        "print(dataset.head(5))\n",
        "# save to file\n",
        "dataset.to_csv('pollution.csv')"
      ],
      "execution_count": null,
      "outputs": [
        {
          "output_type": "stream",
          "text": [
            "                     pollution  dew  temp   press wnd_dir  wnd_spd  snow  rain\n",
            "date                                                                          \n",
            "2010-01-02 00:00:00      129.0  -16  -4.0  1020.0      SE     1.79     0     0\n",
            "2010-01-02 01:00:00      148.0  -15  -4.0  1020.0      SE     2.68     0     0\n",
            "2010-01-02 02:00:00      159.0  -11  -5.0  1021.0      SE     3.57     0     0\n",
            "2010-01-02 03:00:00      181.0   -7  -5.0  1022.0      SE     5.36     1     0\n",
            "2010-01-02 04:00:00      138.0   -7  -5.0  1022.0      SE     6.25     2     0\n"
          ],
          "name": "stdout"
        }
      ]
    },
    {
      "cell_type": "code",
      "metadata": {
        "id": "rWO3wq8SToUP",
        "outputId": "d7f34134-254b-4c75-c644-02ca41873173",
        "colab": {
          "base_uri": "https://localhost:8080/",
          "height": 267
        }
      },
      "source": [
        "from pandas import read_csv\n",
        "from matplotlib import pyplot\n",
        "# load dataset\n",
        "dataset = read_csv('pollution.csv', header=0, index_col=0)\n",
        "values = dataset.values\n",
        "# specify columns to plot\n",
        "groups = [0, 1, 2, 3, 5, 6, 7]\n",
        "i = 1\n",
        "# plot each column\n",
        "pyplot.figure()\n",
        "for group in groups:\n",
        "\tpyplot.subplot(len(groups), 1, i)\n",
        "\tpyplot.plot(values[:, group])\n",
        "\tpyplot.title(dataset.columns[group], y=0.5, loc='right')\n",
        "\ti += 1\n",
        "pyplot.show()"
      ],
      "execution_count": null,
      "outputs": [
        {
          "output_type": "display_data",
          "data": {
            "image/png": "[encoded data removed]",
            "text/plain": [
              "<Figure size 432x288 with 7 Axes>"
            ]
          },
          "metadata": {
            "tags": []
          }
        }
      ]
    },
    {
      "cell_type": "code",
      "metadata": {
        "id": "4Bm_HXhsUwNg",
        "outputId": "da5a1aa7-614e-44b9-ee28-0b005e704b48",
        "colab": {
          "base_uri": "https://localhost:8080/",
          "height": 2471
        }
      },
      "source": [
        "from math import sqrt\n",
        "from numpy import concatenate\n",
        "from matplotlib import pyplot\n",
        "from pandas import read_csv\n",
        "from pandas import DataFrame\n",
        "from pandas import concat\n",
        "from sklearn.preprocessing import MinMaxScaler\n",
        "from sklearn.preprocessing import LabelEncoder\n",
        "from sklearn.metrics import mean_squared_error\n",
        "from keras.models import Sequential\n",
        "from keras.layers import Dense\n",
        "from keras.layers import LSTM\n",
        " \n",
        "# convert series to supervised learning\n",
        "def series_to_supervised(data, n_in=1, n_out=1, dropnan=True):\n",
        "\tn_vars = 1 if type(data) is list else data.shape[1]\n",
        "\tdf = DataFrame(data)\n",
        "\tcols, names = list(), list()\n",
        "\t# input sequence (t-n, ... t-1)\n",
        "\tfor i in range(n_in, 0, -1):\n",
        "\t\tcols.append(df.shift(i))\n",
        "\t\tnames += [('var%d(t-%d)' % (j+1, i)) for j in range(n_vars)]\n",
        "\t# forecast sequence (t, t+1, ... t+n)\n",
        "\tfor i in range(0, n_out):\n",
        "\t\tcols.append(df.shift(-i))\n",
        "\t\tif i == 0:\n",
        "\t\t\tnames += [('var%d(t)' % (j+1)) for j in range(n_vars)]\n",
        "\t\telse:\n",
        "\t\t\tnames += [('var%d(t+%d)' % (j+1, i)) for j in range(n_vars)]\n",
        "\t# put it all together\n",
        "\tagg = concat(cols, axis=1)\n",
        "\tagg.columns = names\n",
        "\t# drop rows with NaN values\n",
        "\tif dropnan:\n",
        "\t\tagg.dropna(inplace=True)\n",
        "\treturn agg\n",
        " \n",
        "# load dataset\n",
        "dataset = read_csv('pollution.csv', header=0, index_col=0)\n",
        "values = dataset.values\n",
        "# integer encode direction\n",
        "encoder = LabelEncoder()\n",
        "values[:,4] = encoder.fit_transform(values[:,4])\n",
        "# ensure all data is float\n",
        "values = values.astype('float32')\n",
        "# normalize features\n",
        "scaler = MinMaxScaler(feature_range=(0, 1))\n",
        "scaled = scaler.fit_transform(values)\n",
        "# frame as supervised learning\n",
        "reframed = series_to_supervised(scaled, 1, 1)\n",
        "# drop columns we don't want to predict\n",
        "reframed.drop(reframed.columns[[9,10,11,12,13,14,15]], axis=1, inplace=True)\n",
        "print(reframed.head())\n",
        " \n",
        "# split into train and test sets\n",
        "values = reframed.values\n",
        "n_train_hours = 365 * 24\n",
        "train = values[:n_train_hours, :]\n",
        "test = values[n_train_hours:, :]\n",
        "# split into input and outputs\n",
        "train_X, train_y = train[:, :-1], train[:, -1]\n",
        "test_X, test_y = test[:, :-1], test[:, -1]\n",
        "# reshape input to be 3D [samples, timesteps, features]\n",
        "train_X = train_X.reshape((train_X.shape[0], 1, train_X.shape[1]))\n",
        "test_X = test_X.reshape((test_X.shape[0], 1, test_X.shape[1]))\n",
        "print(train_X.shape, train_y.shape, test_X.shape, test_y.shape)\n",
        " \n",
        "# design network\n",
        "model = Sequential()\n",
        "model.add(LSTM(50, input_shape=(train_X.shape[1], train_X.shape[2])))\n",
        "model.add(Dense(1))\n",
        "model.compile(loss='mae', optimizer='adam')\n",
        "# fit network\n",
        "history = model.fit(train_X, train_y, epochs=50, batch_size=72, validation_data=(test_X, test_y), verbose=2, shuffle=False)\n",
        "# plot history\n",
        "pyplot.plot(history.history['loss'], label='train')\n",
        "pyplot.plot(history.history['val_loss'], label='test')\n",
        "pyplot.legend()\n",
        "pyplot.show()\n",
        " \n",
        "# make a prediction\n",
        "yhat = model.predict(test_X)\n",
        "test_X = test_X.reshape((test_X.shape[0], test_X.shape[2]))\n",
        "# invert scaling for forecast\n",
        "inv_yhat = concatenate((yhat, test_X[:, 1:]), axis=1)\n",
        "inv_yhat = scaler.inverse_transform(inv_yhat)\n",
        "inv_yhat = inv_yhat[:,0]\n",
        "# invert scaling for actual\n",
        "test_y = test_y.reshape((len(test_y), 1))\n",
        "inv_y = concatenate((test_y, test_X[:, 1:]), axis=1)\n",
        "inv_y = scaler.inverse_transform(inv_y)\n",
        "inv_y = inv_y[:,0]\n",
        "# calculate RMSE\n",
        "rmse = sqrt(mean_squared_error(inv_y, inv_yhat))\n",
        "print('Test RMSE: %.3f' % rmse)"
      ],
      "execution_count": null,
      "outputs": [
        {
          "output_type": "stream",
          "text": [
            "Using TensorFlow backend.\n"
          ],
          "name": "stderr"
        },
        {
          "output_type": "stream",
          "text": [
            "   var1(t-1)  var2(t-1)  var3(t-1)  var4(t-1)  var5(t-1)  var6(t-1)  \\\n",
            "1   0.129779   0.352941   0.245902   0.527273   0.666667   0.002290   \n",
            "2   0.148893   0.367647   0.245902   0.527273   0.666667   0.003811   \n",
            "3   0.159960   0.426471   0.229508   0.545454   0.666667   0.005332   \n",
            "4   0.182093   0.485294   0.229508   0.563637   0.666667   0.008391   \n",
            "5   0.138833   0.485294   0.229508   0.563637   0.666667   0.009912   \n",
            "\n",
            "   var7(t-1)  var8(t-1)   var1(t)  \n",
            "1   0.000000        0.0  0.148893  \n",
            "2   0.000000        0.0  0.159960  \n",
            "3   0.000000        0.0  0.182093  \n",
            "4   0.037037        0.0  0.138833  \n",
            "5   0.074074        0.0  0.109658  \n",
            "((8760, 1, 8), (8760,), (35039, 1, 8), (35039,))\n",
            "WARNING:tensorflow:From /usr/local/lib/python2.7/dist-packages/tensorflow/python/framework/op_def_library.py:263: colocate_with (from tensorflow.python.framework.ops) is deprecated and will be removed in a future version.\n",
            "Instructions for updating:\n",
            "Colocations handled automatically by placer.\n",
            "WARNING:tensorflow:From /usr/local/lib/python2.7/dist-packages/tensorflow/python/ops/math_ops.py:3066: to_int32 (from tensorflow.python.ops.math_ops) is deprecated and will be removed in a future version.\n",
            "Instructions for updating:\n",
            "Use tf.cast instead.\n",
            "Train on 8760 samples, validate on 35039 samples\n",
            "Epoch 1/50\n",
            " - 5s - loss: 0.0608 - val_loss: 0.0488\n",
            "Epoch 2/50\n",
            " - 2s - loss: 0.0417 - val_loss: 0.0469\n",
            "Epoch 3/50\n",
            " - 2s - loss: 0.0250 - val_loss: 0.0317\n",
            "Epoch 4/50\n",
            " - 2s - loss: 0.0159 - val_loss: 0.0209\n",
            "Epoch 5/50\n",
            " - 2s - loss: 0.0147 - val_loss: 0.0152\n",
            "Epoch 6/50\n",
            " - 2s - loss: 0.0147 - val_loss: 0.0143\n",
            "Epoch 7/50\n",
            " - 2s - loss: 0.0146 - val_loss: 0.0142\n",
            "Epoch 8/50\n",
            " - 2s - loss: 0.0148 - val_loss: 0.0136\n",
            "Epoch 9/50\n",
            " - 2s - loss: 0.0145 - val_loss: 0.0135\n",
            "Epoch 10/50\n",
            " - 2s - loss: 0.0145 - val_loss: 0.0136\n",
            "Epoch 11/50\n",
            " - 2s - loss: 0.0146 - val_loss: 0.0134\n",
            "Epoch 12/50\n",
            " - 2s - loss: 0.0145 - val_loss: 0.0134\n",
            "Epoch 13/50\n",
            " - 2s - loss: 0.0145 - val_loss: 0.0135\n",
            "Epoch 14/50\n",
            " - 2s - loss: 0.0145 - val_loss: 0.0134\n",
            "Epoch 15/50\n",
            " - 2s - loss: 0.0145 - val_loss: 0.0135\n",
            "Epoch 16/50\n",
            " - 2s - loss: 0.0144 - val_loss: 0.0136\n",
            "Epoch 17/50\n",
            " - 2s - loss: 0.0145 - val_loss: 0.0134\n",
            "Epoch 18/50\n",
            " - 2s - loss: 0.0145 - val_loss: 0.0135\n",
            "Epoch 19/50\n",
            " - 2s - loss: 0.0144 - val_loss: 0.0135\n",
            "Epoch 20/50\n",
            " - 2s - loss: 0.0144 - val_loss: 0.0134\n",
            "Epoch 21/50\n",
            " - 2s - loss: 0.0144 - val_loss: 0.0135\n",
            "Epoch 22/50\n",
            " - 2s - loss: 0.0145 - val_loss: 0.0134\n",
            "Epoch 23/50\n",
            " - 2s - loss: 0.0144 - val_loss: 0.0134\n",
            "Epoch 24/50\n",
            " - 2s - loss: 0.0144 - val_loss: 0.0136\n",
            "Epoch 25/50\n",
            " - 2s - loss: 0.0145 - val_loss: 0.0134\n",
            "Epoch 26/50\n",
            " - 2s - loss: 0.0144 - val_loss: 0.0135\n",
            "Epoch 27/50\n",
            " - 2s - loss: 0.0145 - val_loss: 0.0135\n",
            "Epoch 28/50\n",
            " - 2s - loss: 0.0143 - val_loss: 0.0138\n",
            "Epoch 29/50\n",
            " - 2s - loss: 0.0144 - val_loss: 0.0136\n",
            "Epoch 30/50\n",
            " - 2s - loss: 0.0145 - val_loss: 0.0135\n",
            "Epoch 31/50\n",
            " - 2s - loss: 0.0144 - val_loss: 0.0136\n",
            "Epoch 32/50\n",
            " - 2s - loss: 0.0144 - val_loss: 0.0135\n",
            "Epoch 33/50\n",
            " - 2s - loss: 0.0143 - val_loss: 0.0139\n",
            "Epoch 34/50\n",
            " - 2s - loss: 0.0144 - val_loss: 0.0136\n",
            "Epoch 35/50\n",
            " - 2s - loss: 0.0144 - val_loss: 0.0135\n",
            "Epoch 36/50\n",
            " - 2s - loss: 0.0142 - val_loss: 0.0134\n",
            "Epoch 37/50\n",
            " - 2s - loss: 0.0144 - val_loss: 0.0135\n",
            "Epoch 38/50\n",
            " - 2s - loss: 0.0144 - val_loss: 0.0135\n",
            "Epoch 39/50\n",
            " - 2s - loss: 0.0144 - val_loss: 0.0134\n",
            "Epoch 40/50\n",
            " - 2s - loss: 0.0145 - val_loss: 0.0134\n",
            "Epoch 41/50\n",
            " - 2s - loss: 0.0145 - val_loss: 0.0134\n",
            "Epoch 42/50\n",
            " - 2s - loss: 0.0144 - val_loss: 0.0134\n",
            "Epoch 43/50\n",
            " - 2s - loss: 0.0144 - val_loss: 0.0134\n",
            "Epoch 44/50\n",
            " - 2s - loss: 0.0144 - val_loss: 0.0134\n",
            "Epoch 45/50\n",
            " - 2s - loss: 0.0144 - val_loss: 0.0134\n",
            "Epoch 46/50\n",
            " - 2s - loss: 0.0144 - val_loss: 0.0134\n",
            "Epoch 47/50\n",
            " - 2s - loss: 0.0145 - val_loss: 0.0133\n",
            "Epoch 48/50\n",
            " - 2s - loss: 0.0144 - val_loss: 0.0133\n",
            "Epoch 49/50\n",
            " - 2s - loss: 0.0144 - val_loss: 0.0133\n",
            "Epoch 50/50\n",
            " - 2s - loss: 0.0143 - val_loss: 0.0133\n"
          ],
          "name": "stdout"
        },
        {
          "output_type": "display_data",
          "data": {
            "image/png": "[encoded data removed]",
            "text/plain": [
              "<Figure size 432x288 with 1 Axes>"
            ]
          },
          "metadata": {
            "tags": []
          }
        },
        {
          "output_type": "stream",
          "text": [
            "Test RMSE: 26.369\n"
          ],
          "name": "stdout"
        }
      ]
    }
  ]
}